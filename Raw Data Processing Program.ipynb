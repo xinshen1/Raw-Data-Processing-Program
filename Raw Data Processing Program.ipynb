{
  "nbformat": 4,
  "nbformat_minor": 0,
  "metadata": {
    "colab": {
      "provenance": []
    },
    "kernelspec": {
      "name": "python3",
      "display_name": "Python 3"
    },
    "language_info": {
      "name": "python"
    }
  },
  "cells": [
    {
      "cell_type": "markdown",
      "metadata": {
        "id": "AbWBpdRrLbAW"
      },
      "source": [
        "**Import Data**"
      ]
    },
    {
      "cell_type": "code",
      "metadata": {
        "colab": {
          "base_uri": "https://localhost:8080/"
        },
        "id": "TAIcRZe9oCrM",
        "outputId": "8e13db69-6c8f-4526-a9a3-f569e5de7310"
      },
      "source": [
        "pip install pandas"
      ],
      "execution_count": null,
      "outputs": [
        {
          "output_type": "stream",
          "text": [
            "Requirement already satisfied: pandas in /usr/local/lib/python3.7/dist-packages (1.1.5)\n",
            "Requirement already satisfied: pytz>=2017.2 in /usr/local/lib/python3.7/dist-packages (from pandas) (2018.9)\n",
            "Requirement already satisfied: python-dateutil>=2.7.3 in /usr/local/lib/python3.7/dist-packages (from pandas) (2.8.1)\n",
            "Requirement already satisfied: numpy>=1.15.4 in /usr/local/lib/python3.7/dist-packages (from pandas) (1.19.5)\n",
            "Requirement already satisfied: six>=1.5 in /usr/local/lib/python3.7/dist-packages (from python-dateutil>=2.7.3->pandas) (1.15.0)\n"
          ],
          "name": "stdout"
        }
      ]
    },
    {
      "cell_type": "code",
      "metadata": {
        "id": "rZsDvkYfoDo2"
      },
      "source": [
        "import pandas as pd"
      ],
      "execution_count": null,
      "outputs": []
    },
    {
      "cell_type": "code",
      "metadata": {
        "colab": {
          "base_uri": "https://localhost:8080/"
        },
        "id": "zUVaqx8URd2I",
        "outputId": "ef5190f6-1d58-46dc-9aae-8319c63bd95d"
      },
      "source": [
        "from google.colab import drive\n",
        "drive.mount('/drive')\n"
      ],
      "execution_count": null,
      "outputs": [
        {
          "output_type": "stream",
          "text": [
            "Mounted at /drive\n"
          ],
          "name": "stdout"
        }
      ]
    },
    {
      "cell_type": "markdown",
      "metadata": {
        "id": "3U01xNLlc3FP"
      },
      "source": [
        "Stock Information (Ticker, Company Name, Industry, Address, Link)\n",
        " "
      ]
    },
    {
      "cell_type": "code",
      "metadata": {
        "id": "SgL9STAHaoow"
      },
      "source": [
        "StockInfo = pd.read_excel('/drive/My Drive/StockInfo.xlsx')"
      ],
      "execution_count": null,
      "outputs": []
    },
    {
      "cell_type": "code",
      "metadata": {
        "colab": {
          "base_uri": "https://localhost:8080/"
        },
        "id": "f-hv3yY0b6tK",
        "outputId": "b7535234-b33d-40d4-e372-f7513ddd9a8e"
      },
      "source": [
        "print(StockInfo)"
      ],
      "execution_count": null,
      "outputs": [
        {
          "output_type": "stream",
          "text": [
            "      Unnamed: 0  ...            Unnamed: 13\n",
            "0            NaN  ...                    NaN\n",
            "1            NaN  ...                    NaN\n",
            "2            NaN  ...                    NaN\n",
            "3            NaN  ...                   公司网站\n",
            "4            NaN  ...        bank.pingan.com\n",
            "...          ...  ...                    ...\n",
            "6934         NaN  ...         www.remegen.cn\n",
            "6935         NaN  ...  www.peijiamedical.com\n",
            "6936         NaN  ...  www.kangjimedical.com\n",
            "6937         NaN  ...    www.kwanyong.com.sg\n",
            "6938         NaN  ...         ir.netease.com\n",
            "\n",
            "[6939 rows x 14 columns]\n"
          ],
          "name": "stdout"
        }
      ]
    },
    {
      "cell_type": "code",
      "metadata": {
        "colab": {
          "base_uri": "https://localhost:8080/"
        },
        "id": "WPSr-LFVoh9y",
        "outputId": "5566a424-b1ab-44b9-ad93-d521e0a0433e"
      },
      "source": [
        "StockInfo = list(StockInfo)\n",
        "print(StockInfo)"
      ],
      "execution_count": null,
      "outputs": [
        {
          "output_type": "stream",
          "text": [
            "['Unnamed: 0', 'Unnamed: 1', 'Unnamed: 2', 'Unnamed: 3', 'Unnamed: 4', 'Unnamed: 5', 'Unnamed: 6', 'Unnamed: 7', 'Unnamed: 8', 'Unnamed: 9', 'Unnamed: 10', 'Unnamed: 11', 'Unnamed: 12', 'Unnamed: 13']\n"
          ],
          "name": "stdout"
        }
      ]
    },
    {
      "cell_type": "markdown",
      "metadata": {
        "id": "u_seUm12dUAN"
      },
      "source": [
        "Master Raw Data"
      ]
    },
    {
      "cell_type": "code",
      "metadata": {
        "id": "8SPe2Q4TaRiN"
      },
      "source": [
        "MasterRawData = pd.read_excel('/drive/My Drive/MasterRawData.xlsx')"
      ],
      "execution_count": null,
      "outputs": []
    },
    {
      "cell_type": "code",
      "metadata": {
        "colab": {
          "base_uri": "https://localhost:8080/"
        },
        "id": "luoK7S7OSbJX",
        "outputId": "e391da94-8a83-45b8-adb9-c932a50ef797"
      },
      "source": [
        "print(MasterRawData)"
      ],
      "execution_count": null,
      "outputs": [
        {
          "output_type": "stream",
          "text": [
            "      Unnamed: 0  ...                                        Unnamed: 41\n",
            "0            NaN  ...                                                NaN\n",
            "1            NaN  ...                                                NaN\n",
            "2            NaN  ...                                                NaN\n",
            "3            NaN  ...                                                NaN\n",
            "4            NaN  ...                                                NaN\n",
            "...          ...  ...                                                ...\n",
            "8549         NaN  ...                                                NaN\n",
            "8550         NaN  ...  US - Gemini Investments (Holdings) Ltd of Hong...\n",
            "8551         NaN  ...  TAIWAN - An investor group, comprised of Wang ...\n",
            "8552         NaN  ...  TAIWAN - An investor group, comprised of Qihan...\n",
            "8553         NaN  ...  UK - Ganfeng Lithium Co Ltd of China agreed to...\n",
            "\n",
            "[8554 rows x 42 columns]\n"
          ],
          "name": "stdout"
        }
      ]
    },
    {
      "cell_type": "markdown",
      "metadata": {
        "id": "yyC_mHgtfIIi"
      },
      "source": [
        "January M&A Deals Transactions"
      ]
    },
    {
      "cell_type": "markdown",
      "metadata": {
        "id": "yxmKu9b8rk66"
      },
      "source": [
        "English"
      ]
    },
    {
      "cell_type": "code",
      "metadata": {
        "id": "OSopnCfOZ-9H"
      },
      "source": [
        "MA_en = pd.read_excel( '/drive/My Drive/MAEn.xlsx')"
      ],
      "execution_count": null,
      "outputs": []
    },
    {
      "cell_type": "code",
      "metadata": {
        "colab": {
          "base_uri": "https://localhost:8080/"
        },
        "id": "TKQI-V7Biqs4",
        "outputId": "c91b7020-c968-4557-ee46-2f05524897c9"
      },
      "source": [
        "print(MA_en)"
      ],
      "execution_count": null,
      "outputs": [
        {
          "output_type": "stream",
          "text": [
            "                 Unnamed: 0  ...                   Unnamed: 36\n",
            "0                Short Name  ...  Type of the Service Provider\n",
            "1                    BUS ME  ...                           NaN\n",
            "2        Boke Biotechnology  ...                           NaN\n",
            "3           Ronghai Network  ...              Investment bank \n",
            "4                  Afalight  ...              Investment bank \n",
            "...                     ...  ...                           ...\n",
            "1313              Dilusense  ...                           NaN\n",
            "1314           Unisemipower  ...                           NaN\n",
            "1315  Mingyang New Material  ...                           NaN\n",
            "1316        Zebra Too Angry  ...                           NaN\n",
            "1317     Faroad Intelligent  ...                           NaN\n",
            "\n",
            "[1318 rows x 37 columns]\n"
          ],
          "name": "stdout"
        }
      ]
    },
    {
      "cell_type": "code",
      "metadata": {
        "colab": {
          "base_uri": "https://localhost:8080/"
        },
        "id": "LGrVf_uNxl5W",
        "outputId": "458eb99f-a237-4fe3-8034-c9fe4819d72e"
      },
      "source": [
        "pip install xlrd"
      ],
      "execution_count": null,
      "outputs": [
        {
          "output_type": "stream",
          "text": [
            "Requirement already satisfied: xlrd in /usr/local/lib/python3.7/dist-packages (1.1.0)\n"
          ],
          "name": "stdout"
        }
      ]
    },
    {
      "cell_type": "code",
      "metadata": {
        "colab": {
          "base_uri": "https://localhost:8080/"
        },
        "id": "oxfAVO00zTW7",
        "outputId": "4dc69d38-aef9-40b3-d558-ee933e68ba10"
      },
      "source": [
        "print(MA_en)"
      ],
      "execution_count": null,
      "outputs": [
        {
          "output_type": "stream",
          "text": [
            "['Unnamed: 0', 'Unnamed: 1', 'Type：All Deals\\r\\nExporting Date：2021/06/28 14:27:10', 'Unnamed: 3', 'Unnamed: 4', 'Unnamed: 5', 'Unnamed: 6', 'Unnamed: 7', 'Unnamed: 8', 'Unnamed: 9', 'Unnamed: 10', 'Unnamed: 11', 'Unnamed: 12', 'Unnamed: 13', 'Unnamed: 14', 'Unnamed: 15', 'Unnamed: 16', 'Unnamed: 17', 'Unnamed: 18', 'Unnamed: 19', 'Unnamed: 20', 'Unnamed: 21', 'Unnamed: 22', 'Unnamed: 23', 'Unnamed: 24', 'Unnamed: 25', 'Unnamed: 26', 'Unnamed: 27', 'Unnamed: 28', 'Unnamed: 29', 'Unnamed: 30', 'Unnamed: 31', 'Unnamed: 32', 'Unnamed: 33', 'Unnamed: 34', 'Unnamed: 35', 'Unnamed: 36']\n"
          ],
          "name": "stdout"
        }
      ]
    },
    {
      "cell_type": "code",
      "metadata": {
        "id": "mczAGvffqpJZ"
      },
      "source": [
        "def get_dic_from_file(MA_en):\n",
        "  with open(MA_en, 'r') as fd:\n",
        "    raw_data = fd.readliness()\n",
        "  headline = raw_data[0].strip().split(',')\n",
        "  data = [it.stip().split(\",\") for it in raw_data[1:]]\n",
        "\n",
        "  keys = [it[0] for it in data]\n",
        "  sub_keys = headline[1:]\n",
        "\n",
        "  dic = dict(zip(keys,[{} for i in range(len(keys))]))\n",
        "  for line in data():\n",
        "    key = line[0]\n",
        "  if dic[key] != {}:\n",
        "    print(\"Error:repeated values\", key, dic[key])\n",
        "  else:\n",
        "    value = dict(zip(sub_keys, [int(it) for it in line[1:]]))\n",
        "    dic[key] = value\n",
        "\n",
        "  import os, json\n",
        "  out_path = os.path.splitext(MA_en)[0] + \".json\"\n",
        "  with open(out_path, 'w') as fd:\n",
        "    json.dump(dic, fd)"
      ],
      "execution_count": null,
      "outputs": []
    },
    {
      "cell_type": "code",
      "metadata": {
        "id": "Ev6RVmOb20RY",
        "outputId": "c6f4b398-5e00-4a92-934d-a9e65a2510a4",
        "colab": {
          "base_uri": "https://localhost:8080/"
        }
      },
      "source": [
        "print(MA_en)"
      ],
      "execution_count": null,
      "outputs": [
        {
          "output_type": "stream",
          "text": [
            "['Unnamed: 0', 'Unnamed: 1', 'Type：All Deals\\r\\nExporting Date：2021/06/28 14:27:10', 'Unnamed: 3', 'Unnamed: 4', 'Unnamed: 5', 'Unnamed: 6', 'Unnamed: 7', 'Unnamed: 8', 'Unnamed: 9', 'Unnamed: 10', 'Unnamed: 11', 'Unnamed: 12', 'Unnamed: 13', 'Unnamed: 14', 'Unnamed: 15', 'Unnamed: 16', 'Unnamed: 17', 'Unnamed: 18', 'Unnamed: 19', 'Unnamed: 20', 'Unnamed: 21', 'Unnamed: 22', 'Unnamed: 23', 'Unnamed: 24', 'Unnamed: 25', 'Unnamed: 26', 'Unnamed: 27', 'Unnamed: 28', 'Unnamed: 29', 'Unnamed: 30', 'Unnamed: 31', 'Unnamed: 32', 'Unnamed: 33', 'Unnamed: 34', 'Unnamed: 35', 'Unnamed: 36']\n"
          ],
          "name": "stdout"
        }
      ]
    },
    {
      "cell_type": "markdown",
      "metadata": {
        "id": "Wh6DZKscrmqx"
      },
      "source": [
        "Mardrain"
      ]
    },
    {
      "cell_type": "code",
      "metadata": {
        "id": "ERwPUpA1gomC"
      },
      "source": [
        "MA_ch = pd.read_excel('/drive/My Drive/MACh.xlsx')"
      ],
      "execution_count": null,
      "outputs": []
    },
    {
      "cell_type": "code",
      "metadata": {
        "colab": {
          "base_uri": "https://localhost:8080/"
        },
        "id": "QCKMKbQVivzh",
        "outputId": "d35aa977-6742-47d0-d150-ec92b37d481d"
      },
      "source": [
        "print(MA_ch)"
      ],
      "execution_count": null,
      "outputs": [
        {
          "output_type": "stream",
          "text": [
            "     Unnamed: 0      Unnamed: 1  ... Unnamed: 58 Unnamed: 59\n",
            "0          企业简称            企业全称  ...        中介名称        中介类型\n",
            "1           百十米  合肥百十米互联网科技有限公司  ...         NaN         NaN\n",
            "2          伯科生物      伯科生物科技有限公司  ...         NaN         NaN\n",
            "3          融海网络    浙江融海网络科技有限公司  ...        鼎麟资本          投行\n",
            "4         埃尔法光电  深圳市埃尔法光电科技有限公司  ...        华峰资本          投行\n",
            "...         ...             ...  ...         ...         ...\n",
            "1313       的卢深视    北京的卢深视科技有限公司  ...         NaN         NaN\n",
            "1314       芯合电子    芯合电子（上海）有限公司  ...         NaN         NaN\n",
            "1315      明扬新材料   江西明扬新材料科技有限公司  ...         NaN         NaN\n",
            "1316       生气斑马    深圳启月电子商务有限公司  ...         NaN         NaN\n",
            "1317       路远智能   深圳市路远智能装备有限公司  ...         NaN         NaN\n",
            "\n",
            "[1318 rows x 60 columns]\n"
          ],
          "name": "stdout"
        }
      ]
    },
    {
      "cell_type": "markdown",
      "metadata": {
        "id": "YmcMQFUiLYVG"
      },
      "source": [
        "**Import API**"
      ]
    },
    {
      "cell_type": "code",
      "metadata": {
        "colab": {
          "base_uri": "https://localhost:8080/"
        },
        "id": "FguAX8MvLOhy",
        "outputId": "bdcf6e02-186a-48fd-d6a4-03c2c7037d0d"
      },
      "source": [
        "pip install requests"
      ],
      "execution_count": null,
      "outputs": [
        {
          "output_type": "stream",
          "text": [
            "Requirement already satisfied: requests in /usr/local/lib/python3.7/dist-packages (2.23.0)\n",
            "Requirement already satisfied: chardet<4,>=3.0.2 in /usr/local/lib/python3.7/dist-packages (from requests) (3.0.4)\n",
            "Requirement already satisfied: certifi>=2017.4.17 in /usr/local/lib/python3.7/dist-packages (from requests) (2021.5.30)\n",
            "Requirement already satisfied: urllib3!=1.25.0,!=1.25.1,<1.26,>=1.21.1 in /usr/local/lib/python3.7/dist-packages (from requests) (1.24.3)\n",
            "Requirement already satisfied: idna<3,>=2.5 in /usr/local/lib/python3.7/dist-packages (from requests) (2.10)\n"
          ],
          "name": "stdout"
        }
      ]
    },
    {
      "cell_type": "code",
      "metadata": {
        "id": "EEQ29dIeLTM7"
      },
      "source": [
        "import requests"
      ],
      "execution_count": null,
      "outputs": []
    },
    {
      "cell_type": "code",
      "metadata": {
        "colab": {
          "base_uri": "https://localhost:8080/"
        },
        "id": "JULRrPqpLXf3",
        "outputId": "8ce735ea-a77a-49fc-f0da-5858f8ab84d4"
      },
      "source": [
        "response = requests.get(\"http://webapi.cninfo.com.cn/api/stock/p_stock2254\")\n",
        "print(response.status_code)"
      ],
      "execution_count": null,
      "outputs": [
        {
          "output_type": "stream",
          "text": [
            "200\n"
          ],
          "name": "stdout"
        }
      ]
    }
  ]
}